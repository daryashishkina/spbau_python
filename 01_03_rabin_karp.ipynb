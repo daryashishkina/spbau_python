{
 "cells": [
  {
   "cell_type": "code",
   "execution_count": 3,
   "metadata": {},
   "outputs": [
    {
     "name": "stdout",
     "output_type": "stream",
     "text": [
      "[118, 244, 262, 269]\n",
      "[118, 244, 262, 269]\n",
      "[118, 244, 262, 269]\n",
      "[118, 244, 262, 269]\n"
     ]
    }
   ],
   "source": [
    "t = \"Осмотрели собак, наводивших изумление крепостью черных мясов, — хорошие были собаки. Потом пошли осматривать крымскую суку, которая была уже слепая и, по словам Ноздрева, должна была скоро издохнуть, но, года два тому назад, была очень хорошая сука. Осмотрели и суку — сука, точно, была слепая.\"\n",
    "p = \"сук\"\n",
    "\n",
    "# t = \"pppppp\"\n",
    "# p = \"pp\"\n",
    "\n",
    "def find_all_std(text, pattern):\n",
    "    \"\"\"\n",
    "    Поиск всех вхождений на основе библиотечной функции\n",
    "    \"\"\"\n",
    "    index = 0\n",
    "    result = []\n",
    "    while True:\n",
    "        index = text.find(pattern, index)\n",
    "        if index == -1:\n",
    "            break\n",
    "        result.append(index)\n",
    "        index += 1\n",
    "    return result\n",
    "\n",
    "def find_all_naïve_1(text, pattern):\n",
    "    \"\"\"\n",
    "    Поиск всех вхождений не на основе библиотечной функции,\n",
    "    который, будь он ещё хоть немного более наивным, мог\n",
    "    бы показаться глупым.\n",
    "    \"\"\"\n",
    "    result = []\n",
    "    for i in range(len(text) - len(pattern) + 1):\n",
    "        found = True\n",
    "        for j in range(len(pattern)):\n",
    "            if pattern[j] != text[i + j]:\n",
    "                found = False\n",
    "                break\n",
    "        if found:\n",
    "            result.append(i)\n",
    "    return result\n",
    "\n",
    "def find_all_naïve_2(text, pattern):\n",
    "    \"\"\"\n",
    "    Поиск всех вхождений НА основе библиотечной функции,\n",
    "    Не менее наивный.\n",
    "    \"\"\"\n",
    "    result = []\n",
    "    for i in range(len(text) - len(pattern) + 1):\n",
    "        if text.startswith(pattern, i):\n",
    "            result.append(i)\n",
    "    return result\n",
    "\n",
    "def find_all_rabin_karp(text, pattern):\n",
    "    \"\"\"\n",
    "    Поиск всех вхождений алгоритмом Рабина-Карпа\n",
    "    \"\"\"\n",
    "    result = []\n",
    "    patternsum = sum(ord(s) for s in pattern)\n",
    "    textwindowsum = sum(ord(text[j]) for j in range(len(pattern)))\n",
    "    for s in range(len(text) - len(pattern) + 1):\n",
    "        if patternsum == textwindowsum:\n",
    "            if text.startswith(pattern, s):\n",
    "                result.append(s)\n",
    "        if s < len(text) - len(pattern):\n",
    "            textwindowsum = textwindowsum - ord(text[s]) + ord(text[s + len(pattern)])\n",
    "    return result\n",
    "\n",
    "print(find_all_std(t, p))\n",
    "print(find_all_naïve_1(t, p))\n",
    "print(find_all_naïve_2(t, p))\n",
    "print(find_all_rabin_karp(t, p))"
   ]
  },
  {
   "cell_type": "code",
   "execution_count": null,
   "metadata": {},
   "outputs": [],
   "source": []
  }
 ],
 "metadata": {
  "kernelspec": {
   "display_name": "Python 3",
   "language": "python",
   "name": "python3"
  },
  "language_info": {
   "codemirror_mode": {
    "name": "ipython",
    "version": 3
   },
   "file_extension": ".py",
   "mimetype": "text/x-python",
   "name": "python",
   "nbconvert_exporter": "python",
   "pygments_lexer": "ipython3",
   "version": "3.8.6"
  }
 },
 "nbformat": 4,
 "nbformat_minor": 4
}
